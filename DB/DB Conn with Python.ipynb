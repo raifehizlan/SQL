{
 "cells": [
  {
   "cell_type": "code",
   "execution_count": null,
   "metadata": {},
   "outputs": [],
   "source": [
    "pyodbc"
   ]
  },
  {
   "cell_type": "code",
   "execution_count": null,
   "metadata": {},
   "outputs": [],
   "source": [
    "#pip install pyodbc"
   ]
  },
  {
   "cell_type": "code",
   "execution_count": 1,
   "metadata": {},
   "outputs": [],
   "source": [
    "import pyodbc"
   ]
  },
  {
   "cell_type": "markdown",
   "metadata": {},
   "source": [
    "## SQL Server Connection"
   ]
  },
  {
   "cell_type": "code",
   "execution_count": 2,
   "metadata": {},
   "outputs": [],
   "source": [
    "def create_server_connection(driver, server, database, user, password):\n",
    "    conn = None\n",
    "    try: \n",
    "        conn = pyodbc.connect(DRIVER = driver, SERVER= server, DATABASE = database, UID= user, PWD= password)\n",
    "        print(\"Successfull\")\n",
    "    except Error as err:\n",
    "        print(f\"Error:'{err}'\")\n",
    "    return conn"
   ]
  },
  {
   "cell_type": "code",
   "execution_count": null,
   "metadata": {},
   "outputs": [],
   "source": [
    "driver = '{ODBC Driver 17 for SQL Server}'\n",
    "server = 'localhost' #şu anda server her birimizin kendi makinesi\n",
    "database = 'master'#yeni bir db oluşturacağız\n",
    "user = 'sa' \n",
    "password = '------'\n",
    "conn = create_server_connection(driver, server, database, user, password)"
   ]
  },
  {
   "cell_type": "code",
   "execution_count": 11,
   "metadata": {},
   "outputs": [
    {
     "data": {
      "text/plain": [
       "['SQL Server',\n",
       " 'SQL Server Native Client 11.0',\n",
       " 'SQL Server Native Client RDA 11.0',\n",
       " 'ODBC Driver 13 for SQL Server',\n",
       " 'ODBC Driver 17 for SQL Server',\n",
       " 'PostgreSQL ANSI(x64)',\n",
       " 'PostgreSQL Unicode(x64)']"
      ]
     },
     "execution_count": 11,
     "metadata": {},
     "output_type": "execute_result"
    }
   ],
   "source": [
    "pyodbc.drivers()"
   ]
  },
  {
   "cell_type": "markdown",
   "metadata": {},
   "source": [
    "### windows authentication"
   ]
  },
  {
   "cell_type": "code",
   "execution_count": 3,
   "metadata": {},
   "outputs": [],
   "source": [
    "conn_string = \"driver={ODBC Driver 17 for SQL Server}; server=localhost; database=master; TRUSTED_CONNECTION=yes;\""
   ]
  },
  {
   "cell_type": "code",
   "execution_count": 4,
   "metadata": {},
   "outputs": [],
   "source": [
    "conn = pyodbc.connect(conn_string);"
   ]
  },
  {
   "cell_type": "code",
   "execution_count": 5,
   "metadata": {},
   "outputs": [],
   "source": [
    "crs = conn.cursor()"
   ]
  },
  {
   "cell_type": "code",
   "execution_count": 6,
   "metadata": {},
   "outputs": [],
   "source": [
    "conn.autocommit = True"
   ]
  },
  {
   "cell_type": "code",
   "execution_count": null,
   "metadata": {},
   "outputs": [],
   "source": [
    "#conn.commit()"
   ]
  },
  {
   "cell_type": "code",
   "execution_count": 7,
   "metadata": {},
   "outputs": [],
   "source": [
    "create_database_query = 'Create database test_1'"
   ]
  },
  {
   "cell_type": "code",
   "execution_count": 8,
   "metadata": {},
   "outputs": [],
   "source": [
    "def create_database (conn, create_database_query):\n",
    "    crs = conn.cursor()\n",
    "    try: \n",
    "        crs.execute(create_database_query)\n",
    "        print(\"Database is Created Succesfully\")\n",
    "    except Error as err:\n",
    "        print(f\"Error:'{err}'\")"
   ]
  },
  {
   "cell_type": "code",
   "execution_count": 10,
   "metadata": {},
   "outputs": [
    {
     "name": "stdout",
     "output_type": "stream",
     "text": [
      "Database is Created Succesfully\n"
     ]
    }
   ],
   "source": [
    "create_database(conn, create_database_query)"
   ]
  },
  {
   "cell_type": "code",
   "execution_count": 11,
   "metadata": {},
   "outputs": [],
   "source": [
    "def execute_query(conn, query):\n",
    "    crs = conn.cursor()\n",
    "    try:\n",
    "        crs.execute(query)\n",
    "        conn.commit()\n",
    "        print(\"Query Succeessful!\")\n",
    "    except Error as err:\n",
    "        print(f\"Error:'{err}'\")"
   ]
  },
  {
   "cell_type": "code",
   "execution_count": 12,
   "metadata": {},
   "outputs": [
    {
     "name": "stdout",
     "output_type": "stream",
     "text": [
      "Query Succeessful!\n"
     ]
    }
   ],
   "source": [
    "query = 'USE Test_1'\n",
    "execute_query(conn,query)"
   ]
  },
  {
   "cell_type": "markdown",
   "metadata": {},
   "source": [
    "## Create Table "
   ]
  },
  {
   "cell_type": "code",
   "execution_count": 13,
   "metadata": {},
   "outputs": [
    {
     "name": "stdout",
     "output_type": "stream",
     "text": [
      "Query Succeessful!\n"
     ]
    }
   ],
   "source": [
    "query = 'CREATE TABLE TestA (\\\n",
    "           ID INT IDENTITY (1,1) NOT NULL, \\\n",
    "           FirstName VARCHAR(255) NOT NULL,\\\n",
    "           LastName VARCHAR(255) NOT NULL,\\\n",
    "           PRIMARY KEY(ID))'\n",
    "\n",
    "execute_query(conn, query)"
   ]
  },
  {
   "cell_type": "markdown",
   "metadata": {},
   "source": [
    "## Insert"
   ]
  },
  {
   "cell_type": "code",
   "execution_count": 14,
   "metadata": {},
   "outputs": [
    {
     "data": {
      "text/plain": [
       "<pyodbc.Cursor at 0x239a3ffdeb0>"
      ]
     },
     "execution_count": 14,
     "metadata": {},
     "output_type": "execute_result"
    }
   ],
   "source": [
    "crs= conn.cursor()\n",
    "crs.execute(\"INSERT TestA (FirstName, LastName) VALUES ('Bob', 'Marley')\")\n",
    "#conn.commit()"
   ]
  },
  {
   "cell_type": "code",
   "execution_count": 15,
   "metadata": {},
   "outputs": [
    {
     "data": {
      "text/plain": [
       "<pyodbc.Cursor at 0x239a3ffdeb0>"
      ]
     },
     "execution_count": 15,
     "metadata": {},
     "output_type": "execute_result"
    }
   ],
   "source": [
    "crs.execute(\"INSERT TestA (FirstName, LastName) VALUES (?,?)\",'Bruce', 'Lee')"
   ]
  },
  {
   "cell_type": "code",
   "execution_count": 16,
   "metadata": {},
   "outputs": [
    {
     "data": {
      "text/plain": [
       "<pyodbc.Cursor at 0x239a3ffdeb0>"
      ]
     },
     "execution_count": 16,
     "metadata": {},
     "output_type": "execute_result"
    }
   ],
   "source": [
    "crs.execute(\"INSERT TestA (FirstName, LastName) VALUES (?,?)\",'Tom', 'Hanks')\n",
    "crs.execute(\"INSERT TestA (FirstName, LastName) VALUES (?,?)\",'Bart', 'Simpson')"
   ]
  },
  {
   "cell_type": "code",
   "execution_count": 17,
   "metadata": {},
   "outputs": [
    {
     "data": {
      "text/plain": [
       "<pyodbc.Cursor at 0x239a3ffdeb0>"
      ]
     },
     "execution_count": 17,
     "metadata": {},
     "output_type": "execute_result"
    }
   ],
   "source": [
    "crs.execute(\"INSERT TestA (FirstName, LastName) VALUES (?,?)\",'Tom', 'Cat')\n",
    "crs.execute(\"INSERT TestA (FirstName, LastName) VALUES (?,?)\",'Jerry', 'Mouse')\n",
    "crs.execute(\"INSERT TestA (FirstName, LastName) VALUES (?,?)\",'Owen', 'William')\n",
    "crs.execute(\"INSERT TestA (FirstName, LastName) VALUES (?,?)\",'Stefan', 'Müller')"
   ]
  },
  {
   "cell_type": "markdown",
   "metadata": {},
   "source": [
    "## Delete "
   ]
  },
  {
   "cell_type": "code",
   "execution_count": 18,
   "metadata": {},
   "outputs": [
    {
     "data": {
      "text/plain": [
       "<pyodbc.Cursor at 0x239a3ffdeb0>"
      ]
     },
     "execution_count": 18,
     "metadata": {},
     "output_type": "execute_result"
    }
   ],
   "source": [
    "crs.execute(\"DELETE FROM TestA WHERE FirstName = 'Jerry'\")"
   ]
  },
  {
   "cell_type": "code",
   "execution_count": 19,
   "metadata": {},
   "outputs": [
    {
     "data": {
      "text/plain": [
       "<pyodbc.Cursor at 0x239a3ffdeb0>"
      ]
     },
     "execution_count": 19,
     "metadata": {},
     "output_type": "execute_result"
    }
   ],
   "source": [
    "crs.execute(\"DELETE FROM TestA WHERE FirstName = ?\" ,'Stefan')"
   ]
  },
  {
   "cell_type": "markdown",
   "metadata": {},
   "source": [
    "## Rowcount "
   ]
  },
  {
   "cell_type": "code",
   "execution_count": 20,
   "metadata": {},
   "outputs": [
    {
     "data": {
      "text/plain": [
       "1"
      ]
     },
     "execution_count": 20,
     "metadata": {},
     "output_type": "execute_result"
    }
   ],
   "source": [
    "crs.rowcount"
   ]
  },
  {
   "cell_type": "code",
   "execution_count": 21,
   "metadata": {},
   "outputs": [
    {
     "name": "stdout",
     "output_type": "stream",
     "text": [
      "1 row(s) deleted\n"
     ]
    }
   ],
   "source": [
    "print(crs.rowcount,\"row(s) deleted\")"
   ]
  },
  {
   "cell_type": "markdown",
   "metadata": {},
   "source": [
    "## read data"
   ]
  },
  {
   "cell_type": "markdown",
   "metadata": {},
   "source": [
    "### fetchone()"
   ]
  },
  {
   "cell_type": "code",
   "execution_count": 23,
   "metadata": {},
   "outputs": [
    {
     "data": {
      "text/plain": [
       "('Bob', 'Marley')"
      ]
     },
     "execution_count": 23,
     "metadata": {},
     "output_type": "execute_result"
    }
   ],
   "source": [
    "crs.execute('SELECT FirstName, LastName FROM TestA')\n",
    "row = crs.fetchone() #tablodaki ilk kaydı getirir\n",
    "row"
   ]
  },
  {
   "cell_type": "code",
   "execution_count": 24,
   "metadata": {},
   "outputs": [
    {
     "data": {
      "text/plain": [
       "('Bruce', 'Lee')"
      ]
     },
     "execution_count": 24,
     "metadata": {},
     "output_type": "execute_result"
    }
   ],
   "source": [
    "row = crs.fetchone() #tablodaki ilk kaydı getirir\n",
    "row"
   ]
  },
  {
   "cell_type": "code",
   "execution_count": 26,
   "metadata": {},
   "outputs": [
    {
     "data": {
      "text/plain": [
       "'Bruce'"
      ]
     },
     "execution_count": 26,
     "metadata": {},
     "output_type": "execute_result"
    }
   ],
   "source": [
    "row.FirstName"
   ]
  },
  {
   "cell_type": "code",
   "execution_count": 27,
   "metadata": {},
   "outputs": [
    {
     "data": {
      "text/plain": [
       "'Lee'"
      ]
     },
     "execution_count": 27,
     "metadata": {},
     "output_type": "execute_result"
    }
   ],
   "source": [
    "row.LastName"
   ]
  },
  {
   "cell_type": "markdown",
   "metadata": {},
   "source": [
    "## fetchall()"
   ]
  },
  {
   "cell_type": "code",
   "execution_count": 14,
   "metadata": {},
   "outputs": [
    {
     "data": {
      "text/plain": [
       "[(1, 'Bob', 'Marley'),\n",
       " (2, 'Bruce', 'Lee'),\n",
       " (3, 'Tom', 'Hanks'),\n",
       " (4, 'Bart', 'Simpson'),\n",
       " (5, 'Tom', 'Cat'),\n",
       " (7, 'Owen', 'William'),\n",
       " (9, 'Bob', 'Marley'),\n",
       " (10, 'Bruce', 'Lee'),\n",
       " (11, 'Tom', 'Hanks'),\n",
       " (12, 'Bart', 'Simpson'),\n",
       " (13, 'Tom', 'Cat'),\n",
       " (15, 'Owen', 'William')]"
      ]
     },
     "execution_count": 14,
     "metadata": {},
     "output_type": "execute_result"
    }
   ],
   "source": [
    "crs.execute('SELECT ID, FirstName, LastName FROM TestA')\n",
    "rows = crs.fetchall()\n",
    "rows"
   ]
  },
  {
   "cell_type": "code",
   "execution_count": 29,
   "metadata": {},
   "outputs": [
    {
     "name": "stdout",
     "output_type": "stream",
     "text": [
      "1 Bob Marley\n",
      "2 Bruce Lee\n",
      "3 Tom Hanks\n",
      "4 Bart Simpson\n",
      "5 Tom Cat\n",
      "7 Owen William\n"
     ]
    }
   ],
   "source": [
    "for row in rows:\n",
    "    print(row.ID, row.FirstName, row.LastName)"
   ]
  },
  {
   "cell_type": "code",
   "execution_count": 30,
   "metadata": {},
   "outputs": [
    {
     "data": {
      "text/plain": [
       "[(1, 'Bob', 'Marley'),\n",
       " (2, 'Bruce', 'Lee'),\n",
       " (3, 'Tom', 'Hanks'),\n",
       " (4, 'Bart', 'Simpson'),\n",
       " (5, 'Tom', 'Cat'),\n",
       " (7, 'Owen', 'William')]"
      ]
     },
     "execution_count": 30,
     "metadata": {},
     "output_type": "execute_result"
    }
   ],
   "source": [
    "crs.execute(\"\"\"SELECT ID, FirstName, LastName \n",
    "                FROM TestA\"\"\")\n",
    "rows = crs.fetchall()\n",
    "rows"
   ]
  },
  {
   "cell_type": "code",
   "execution_count": 31,
   "metadata": {},
   "outputs": [
    {
     "data": {
      "text/plain": [
       "list"
      ]
     },
     "execution_count": 31,
     "metadata": {},
     "output_type": "execute_result"
    }
   ],
   "source": [
    "type(rows)"
   ]
  },
  {
   "cell_type": "code",
   "execution_count": 32,
   "metadata": {},
   "outputs": [
    {
     "data": {
      "text/plain": [
       "[(7, 'Owen', 'William')]"
      ]
     },
     "execution_count": 32,
     "metadata": {},
     "output_type": "execute_result"
    }
   ],
   "source": [
    "crs.execute(\"\"\"SELECT ID, FirstName, LastName \n",
    "               FROM TestA\n",
    "               WHERE FirstName = ? and LastName = ?\"\"\", ['Owen', 'William'])\n",
    "rows = crs.fetchall()\n",
    "rows"
   ]
  },
  {
   "cell_type": "markdown",
   "metadata": {},
   "source": [
    "## Fetchmany()"
   ]
  },
  {
   "cell_type": "code",
   "execution_count": 33,
   "metadata": {},
   "outputs": [
    {
     "data": {
      "text/plain": [
       "[(1, 'Bob', 'Marley'), (2, 'Bruce', 'Lee')]"
      ]
     },
     "execution_count": 33,
     "metadata": {},
     "output_type": "execute_result"
    }
   ],
   "source": [
    "crs.execute(\"\"\"SELECT ID, FirstName, LastName \n",
    "               FROM TestA\"\"\")\n",
    "rows = crs.fetchmany(2)\n",
    "rows"
   ]
  },
  {
   "cell_type": "markdown",
   "metadata": {},
   "source": [
    "## Fetchval()"
   ]
  },
  {
   "cell_type": "code",
   "execution_count": 34,
   "metadata": {},
   "outputs": [
    {
     "data": {
      "text/plain": [
       "7"
      ]
     },
     "execution_count": 34,
     "metadata": {},
     "output_type": "execute_result"
    }
   ],
   "source": [
    "crs.execute(\"SELECT MAX(ID) FROM TestA\").fetchval()"
   ]
  },
  {
   "cell_type": "code",
   "execution_count": 36,
   "metadata": {},
   "outputs": [
    {
     "data": {
      "text/plain": [
       "'Bob'"
      ]
     },
     "execution_count": 36,
     "metadata": {},
     "output_type": "execute_result"
    }
   ],
   "source": [
    "crs.execute(\"SELECT FirstName FROM TestA\").fetchval()"
   ]
  },
  {
   "cell_type": "markdown",
   "metadata": {},
   "source": [
    "## Pandas Methods"
   ]
  },
  {
   "cell_type": "code",
   "execution_count": 15,
   "metadata": {},
   "outputs": [],
   "source": [
    "import pandas as pd"
   ]
  },
  {
   "cell_type": "code",
   "execution_count": 16,
   "metadata": {},
   "outputs": [],
   "source": [
    "def read_query (conn, query): #connection nesnesi yukarıda tanımlanmıştı.\n",
    "    crs = conn. cursor()\n",
    "    results = None\n",
    "    crs.execute(query)\n",
    "    results = crs.fetchall()\n",
    "    return results"
   ]
  },
  {
   "cell_type": "code",
   "execution_count": 17,
   "metadata": {},
   "outputs": [],
   "source": [
    "query = \"\"\"SELECT ID, FirstName, LastName \n",
    "               FROM TestA\"\"\"\n",
    "\n",
    "\n"
   ]
  },
  {
   "cell_type": "code",
   "execution_count": 18,
   "metadata": {},
   "outputs": [],
   "source": [
    "result = read_query (conn, query)"
   ]
  },
  {
   "cell_type": "code",
   "execution_count": 19,
   "metadata": {},
   "outputs": [
    {
     "data": {
      "text/plain": [
       "[(1, 'Bob', 'Marley'),\n",
       " (2, 'Bruce', 'Lee'),\n",
       " (3, 'Tom', 'Hanks'),\n",
       " (4, 'Bart', 'Simpson'),\n",
       " (5, 'Tom', 'Cat'),\n",
       " (7, 'Owen', 'William'),\n",
       " (9, 'Bob', 'Marley'),\n",
       " (10, 'Bruce', 'Lee'),\n",
       " (11, 'Tom', 'Hanks'),\n",
       " (12, 'Bart', 'Simpson'),\n",
       " (13, 'Tom', 'Cat'),\n",
       " (15, 'Owen', 'William')]"
      ]
     },
     "execution_count": 19,
     "metadata": {},
     "output_type": "execute_result"
    }
   ],
   "source": [
    "result"
   ]
  },
  {
   "cell_type": "code",
   "execution_count": 20,
   "metadata": {},
   "outputs": [],
   "source": [
    "df= pd.DataFrame(result)"
   ]
  },
  {
   "cell_type": "code",
   "execution_count": 21,
   "metadata": {},
   "outputs": [
    {
     "data": {
      "text/html": [
       "<div>\n",
       "<style scoped>\n",
       "    .dataframe tbody tr th:only-of-type {\n",
       "        vertical-align: middle;\n",
       "    }\n",
       "\n",
       "    .dataframe tbody tr th {\n",
       "        vertical-align: top;\n",
       "    }\n",
       "\n",
       "    .dataframe thead th {\n",
       "        text-align: right;\n",
       "    }\n",
       "</style>\n",
       "<table border=\"1\" class=\"dataframe\">\n",
       "  <thead>\n",
       "    <tr style=\"text-align: right;\">\n",
       "      <th></th>\n",
       "      <th>0</th>\n",
       "    </tr>\n",
       "  </thead>\n",
       "  <tbody>\n",
       "    <tr>\n",
       "      <th>0</th>\n",
       "      <td>[1, Bob, Marley]</td>\n",
       "    </tr>\n",
       "    <tr>\n",
       "      <th>1</th>\n",
       "      <td>[2, Bruce, Lee]</td>\n",
       "    </tr>\n",
       "    <tr>\n",
       "      <th>2</th>\n",
       "      <td>[3, Tom, Hanks]</td>\n",
       "    </tr>\n",
       "    <tr>\n",
       "      <th>3</th>\n",
       "      <td>[4, Bart, Simpson]</td>\n",
       "    </tr>\n",
       "    <tr>\n",
       "      <th>4</th>\n",
       "      <td>[5, Tom, Cat]</td>\n",
       "    </tr>\n",
       "    <tr>\n",
       "      <th>5</th>\n",
       "      <td>[7, Owen, William]</td>\n",
       "    </tr>\n",
       "    <tr>\n",
       "      <th>6</th>\n",
       "      <td>[9, Bob, Marley]</td>\n",
       "    </tr>\n",
       "    <tr>\n",
       "      <th>7</th>\n",
       "      <td>[10, Bruce, Lee]</td>\n",
       "    </tr>\n",
       "    <tr>\n",
       "      <th>8</th>\n",
       "      <td>[11, Tom, Hanks]</td>\n",
       "    </tr>\n",
       "    <tr>\n",
       "      <th>9</th>\n",
       "      <td>[12, Bart, Simpson]</td>\n",
       "    </tr>\n",
       "    <tr>\n",
       "      <th>10</th>\n",
       "      <td>[13, Tom, Cat]</td>\n",
       "    </tr>\n",
       "    <tr>\n",
       "      <th>11</th>\n",
       "      <td>[15, Owen, William]</td>\n",
       "    </tr>\n",
       "  </tbody>\n",
       "</table>\n",
       "</div>"
      ],
      "text/plain": [
       "                      0\n",
       "0      [1, Bob, Marley]\n",
       "1       [2, Bruce, Lee]\n",
       "2       [3, Tom, Hanks]\n",
       "3    [4, Bart, Simpson]\n",
       "4         [5, Tom, Cat]\n",
       "5    [7, Owen, William]\n",
       "6      [9, Bob, Marley]\n",
       "7      [10, Bruce, Lee]\n",
       "8      [11, Tom, Hanks]\n",
       "9   [12, Bart, Simpson]\n",
       "10       [13, Tom, Cat]\n",
       "11  [15, Owen, William]"
      ]
     },
     "execution_count": 21,
     "metadata": {},
     "output_type": "execute_result"
    }
   ],
   "source": [
    "df"
   ]
  },
  {
   "cell_type": "code",
   "execution_count": 22,
   "metadata": {},
   "outputs": [],
   "source": [
    "from_db = []\n",
    "\n",
    "for result in result:\n",
    "    result = list(result)\n",
    "    from_db.append(result)"
   ]
  },
  {
   "cell_type": "code",
   "execution_count": 23,
   "metadata": {},
   "outputs": [
    {
     "data": {
      "text/plain": [
       "[[1, 'Bob', 'Marley'],\n",
       " [2, 'Bruce', 'Lee'],\n",
       " [3, 'Tom', 'Hanks'],\n",
       " [4, 'Bart', 'Simpson'],\n",
       " [5, 'Tom', 'Cat'],\n",
       " [7, 'Owen', 'William'],\n",
       " [9, 'Bob', 'Marley'],\n",
       " [10, 'Bruce', 'Lee'],\n",
       " [11, 'Tom', 'Hanks'],\n",
       " [12, 'Bart', 'Simpson'],\n",
       " [13, 'Tom', 'Cat'],\n",
       " [15, 'Owen', 'William']]"
      ]
     },
     "execution_count": 23,
     "metadata": {},
     "output_type": "execute_result"
    }
   ],
   "source": [
    "from_db"
   ]
  },
  {
   "cell_type": "code",
   "execution_count": 24,
   "metadata": {},
   "outputs": [
    {
     "data": {
      "text/html": [
       "<div>\n",
       "<style scoped>\n",
       "    .dataframe tbody tr th:only-of-type {\n",
       "        vertical-align: middle;\n",
       "    }\n",
       "\n",
       "    .dataframe tbody tr th {\n",
       "        vertical-align: top;\n",
       "    }\n",
       "\n",
       "    .dataframe thead th {\n",
       "        text-align: right;\n",
       "    }\n",
       "</style>\n",
       "<table border=\"1\" class=\"dataframe\">\n",
       "  <thead>\n",
       "    <tr style=\"text-align: right;\">\n",
       "      <th></th>\n",
       "      <th>ID</th>\n",
       "      <th>FirstName</th>\n",
       "      <th>LastName</th>\n",
       "    </tr>\n",
       "  </thead>\n",
       "  <tbody>\n",
       "    <tr>\n",
       "      <th>0</th>\n",
       "      <td>1</td>\n",
       "      <td>Bob</td>\n",
       "      <td>Marley</td>\n",
       "    </tr>\n",
       "    <tr>\n",
       "      <th>1</th>\n",
       "      <td>2</td>\n",
       "      <td>Bruce</td>\n",
       "      <td>Lee</td>\n",
       "    </tr>\n",
       "    <tr>\n",
       "      <th>2</th>\n",
       "      <td>3</td>\n",
       "      <td>Tom</td>\n",
       "      <td>Hanks</td>\n",
       "    </tr>\n",
       "    <tr>\n",
       "      <th>3</th>\n",
       "      <td>4</td>\n",
       "      <td>Bart</td>\n",
       "      <td>Simpson</td>\n",
       "    </tr>\n",
       "    <tr>\n",
       "      <th>4</th>\n",
       "      <td>5</td>\n",
       "      <td>Tom</td>\n",
       "      <td>Cat</td>\n",
       "    </tr>\n",
       "    <tr>\n",
       "      <th>5</th>\n",
       "      <td>7</td>\n",
       "      <td>Owen</td>\n",
       "      <td>William</td>\n",
       "    </tr>\n",
       "    <tr>\n",
       "      <th>6</th>\n",
       "      <td>9</td>\n",
       "      <td>Bob</td>\n",
       "      <td>Marley</td>\n",
       "    </tr>\n",
       "    <tr>\n",
       "      <th>7</th>\n",
       "      <td>10</td>\n",
       "      <td>Bruce</td>\n",
       "      <td>Lee</td>\n",
       "    </tr>\n",
       "    <tr>\n",
       "      <th>8</th>\n",
       "      <td>11</td>\n",
       "      <td>Tom</td>\n",
       "      <td>Hanks</td>\n",
       "    </tr>\n",
       "    <tr>\n",
       "      <th>9</th>\n",
       "      <td>12</td>\n",
       "      <td>Bart</td>\n",
       "      <td>Simpson</td>\n",
       "    </tr>\n",
       "    <tr>\n",
       "      <th>10</th>\n",
       "      <td>13</td>\n",
       "      <td>Tom</td>\n",
       "      <td>Cat</td>\n",
       "    </tr>\n",
       "    <tr>\n",
       "      <th>11</th>\n",
       "      <td>15</td>\n",
       "      <td>Owen</td>\n",
       "      <td>William</td>\n",
       "    </tr>\n",
       "  </tbody>\n",
       "</table>\n",
       "</div>"
      ],
      "text/plain": [
       "    ID FirstName LastName\n",
       "0    1       Bob   Marley\n",
       "1    2     Bruce      Lee\n",
       "2    3       Tom    Hanks\n",
       "3    4      Bart  Simpson\n",
       "4    5       Tom      Cat\n",
       "5    7      Owen  William\n",
       "6    9       Bob   Marley\n",
       "7   10     Bruce      Lee\n",
       "8   11       Tom    Hanks\n",
       "9   12      Bart  Simpson\n",
       "10  13       Tom      Cat\n",
       "11  15      Owen  William"
      ]
     },
     "execution_count": 24,
     "metadata": {},
     "output_type": "execute_result"
    }
   ],
   "source": [
    "columns = ['ID','FirstName', 'LastName']\n",
    "df = pd.DataFrame(from_db, columns = columns)\n",
    "df"
   ]
  },
  {
   "cell_type": "code",
   "execution_count": 25,
   "metadata": {},
   "outputs": [
    {
     "name": "stdout",
     "output_type": "stream",
     "text": [
      "Query Succeessful!\n"
     ]
    }
   ],
   "source": [
    "query = 'USE BikeStores'\n",
    "execute_query(conn,query)"
   ]
  },
  {
   "cell_type": "code",
   "execution_count": 26,
   "metadata": {},
   "outputs": [
    {
     "data": {
      "text/plain": [
       "[(1, 'Electra'),\n",
       " (2, 'Haro'),\n",
       " (3, 'Heller'),\n",
       " (4, 'Pure Cycles'),\n",
       " (5, 'Ritchey'),\n",
       " (6, 'Strider'),\n",
       " (7, 'Sun Bicycles'),\n",
       " (8, 'Surly'),\n",
       " (9, 'Trek')]"
      ]
     },
     "execution_count": 26,
     "metadata": {},
     "output_type": "execute_result"
    }
   ],
   "source": [
    "crs.execute(\"SELECT * FROM production.brands\").fetchall()"
   ]
  },
  {
   "cell_type": "code",
   "execution_count": 27,
   "metadata": {},
   "outputs": [
    {
     "data": {
      "text/html": [
       "<div>\n",
       "<style scoped>\n",
       "    .dataframe tbody tr th:only-of-type {\n",
       "        vertical-align: middle;\n",
       "    }\n",
       "\n",
       "    .dataframe tbody tr th {\n",
       "        vertical-align: top;\n",
       "    }\n",
       "\n",
       "    .dataframe thead th {\n",
       "        text-align: right;\n",
       "    }\n",
       "</style>\n",
       "<table border=\"1\" class=\"dataframe\">\n",
       "  <thead>\n",
       "    <tr style=\"text-align: right;\">\n",
       "      <th></th>\n",
       "      <th>brand_id</th>\n",
       "      <th>brand_name</th>\n",
       "    </tr>\n",
       "  </thead>\n",
       "  <tbody>\n",
       "    <tr>\n",
       "      <th>0</th>\n",
       "      <td>1</td>\n",
       "      <td>Electra</td>\n",
       "    </tr>\n",
       "    <tr>\n",
       "      <th>1</th>\n",
       "      <td>2</td>\n",
       "      <td>Haro</td>\n",
       "    </tr>\n",
       "    <tr>\n",
       "      <th>2</th>\n",
       "      <td>3</td>\n",
       "      <td>Heller</td>\n",
       "    </tr>\n",
       "    <tr>\n",
       "      <th>3</th>\n",
       "      <td>4</td>\n",
       "      <td>Pure Cycles</td>\n",
       "    </tr>\n",
       "    <tr>\n",
       "      <th>4</th>\n",
       "      <td>5</td>\n",
       "      <td>Ritchey</td>\n",
       "    </tr>\n",
       "    <tr>\n",
       "      <th>5</th>\n",
       "      <td>6</td>\n",
       "      <td>Strider</td>\n",
       "    </tr>\n",
       "    <tr>\n",
       "      <th>6</th>\n",
       "      <td>7</td>\n",
       "      <td>Sun Bicycles</td>\n",
       "    </tr>\n",
       "    <tr>\n",
       "      <th>7</th>\n",
       "      <td>8</td>\n",
       "      <td>Surly</td>\n",
       "    </tr>\n",
       "    <tr>\n",
       "      <th>8</th>\n",
       "      <td>9</td>\n",
       "      <td>Trek</td>\n",
       "    </tr>\n",
       "  </tbody>\n",
       "</table>\n",
       "</div>"
      ],
      "text/plain": [
       "   brand_id    brand_name\n",
       "0         1       Electra\n",
       "1         2          Haro\n",
       "2         3        Heller\n",
       "3         4   Pure Cycles\n",
       "4         5       Ritchey\n",
       "5         6       Strider\n",
       "6         7  Sun Bicycles\n",
       "7         8         Surly\n",
       "8         9          Trek"
      ]
     },
     "execution_count": 27,
     "metadata": {},
     "output_type": "execute_result"
    }
   ],
   "source": [
    "pd.read_sql(\"SELECT * FROM production.brands\", con = conn)"
   ]
  },
  {
   "cell_type": "code",
   "execution_count": 28,
   "metadata": {},
   "outputs": [
    {
     "data": {
      "text/html": [
       "<div>\n",
       "<style scoped>\n",
       "    .dataframe tbody tr th:only-of-type {\n",
       "        vertical-align: middle;\n",
       "    }\n",
       "\n",
       "    .dataframe tbody tr th {\n",
       "        vertical-align: top;\n",
       "    }\n",
       "\n",
       "    .dataframe thead th {\n",
       "        text-align: right;\n",
       "    }\n",
       "</style>\n",
       "<table border=\"1\" class=\"dataframe\">\n",
       "  <thead>\n",
       "    <tr style=\"text-align: right;\">\n",
       "      <th></th>\n",
       "      <th>product_id</th>\n",
       "      <th>product_name</th>\n",
       "      <th>brand_id</th>\n",
       "      <th>category_id</th>\n",
       "      <th>model_year</th>\n",
       "      <th>list_price</th>\n",
       "    </tr>\n",
       "  </thead>\n",
       "  <tbody>\n",
       "    <tr>\n",
       "      <th>0</th>\n",
       "      <td>1</td>\n",
       "      <td>Trek 820 - 2016</td>\n",
       "      <td>9</td>\n",
       "      <td>6</td>\n",
       "      <td>2016</td>\n",
       "      <td>379.99</td>\n",
       "    </tr>\n",
       "    <tr>\n",
       "      <th>1</th>\n",
       "      <td>2</td>\n",
       "      <td>Ritchey Timberwolf Frameset - 2016</td>\n",
       "      <td>5</td>\n",
       "      <td>6</td>\n",
       "      <td>2016</td>\n",
       "      <td>749.99</td>\n",
       "    </tr>\n",
       "    <tr>\n",
       "      <th>2</th>\n",
       "      <td>3</td>\n",
       "      <td>Surly Wednesday Frameset - 2016</td>\n",
       "      <td>8</td>\n",
       "      <td>6</td>\n",
       "      <td>2016</td>\n",
       "      <td>999.99</td>\n",
       "    </tr>\n",
       "    <tr>\n",
       "      <th>3</th>\n",
       "      <td>4</td>\n",
       "      <td>Trek Fuel EX 8 29 - 2016</td>\n",
       "      <td>9</td>\n",
       "      <td>6</td>\n",
       "      <td>2016</td>\n",
       "      <td>2899.99</td>\n",
       "    </tr>\n",
       "    <tr>\n",
       "      <th>4</th>\n",
       "      <td>5</td>\n",
       "      <td>Heller Shagamaw Frame - 2016</td>\n",
       "      <td>3</td>\n",
       "      <td>6</td>\n",
       "      <td>2016</td>\n",
       "      <td>1320.99</td>\n",
       "    </tr>\n",
       "    <tr>\n",
       "      <th>5</th>\n",
       "      <td>6</td>\n",
       "      <td>Surly Ice Cream Truck Frameset - 2016</td>\n",
       "      <td>8</td>\n",
       "      <td>6</td>\n",
       "      <td>2016</td>\n",
       "      <td>469.99</td>\n",
       "    </tr>\n",
       "    <tr>\n",
       "      <th>6</th>\n",
       "      <td>7</td>\n",
       "      <td>Trek Slash 8 27.5 - 2016</td>\n",
       "      <td>9</td>\n",
       "      <td>6</td>\n",
       "      <td>2016</td>\n",
       "      <td>3999.99</td>\n",
       "    </tr>\n",
       "    <tr>\n",
       "      <th>7</th>\n",
       "      <td>8</td>\n",
       "      <td>Trek Remedy 29 Carbon Frameset - 2016</td>\n",
       "      <td>9</td>\n",
       "      <td>6</td>\n",
       "      <td>2016</td>\n",
       "      <td>1799.99</td>\n",
       "    </tr>\n",
       "    <tr>\n",
       "      <th>8</th>\n",
       "      <td>9</td>\n",
       "      <td>Trek Conduit+ - 2016</td>\n",
       "      <td>9</td>\n",
       "      <td>5</td>\n",
       "      <td>2016</td>\n",
       "      <td>2999.99</td>\n",
       "    </tr>\n",
       "    <tr>\n",
       "      <th>9</th>\n",
       "      <td>10</td>\n",
       "      <td>Surly Straggler - 2016</td>\n",
       "      <td>8</td>\n",
       "      <td>4</td>\n",
       "      <td>2016</td>\n",
       "      <td>1549.00</td>\n",
       "    </tr>\n",
       "  </tbody>\n",
       "</table>\n",
       "</div>"
      ],
      "text/plain": [
       "   product_id                           product_name  brand_id  category_id  \\\n",
       "0           1                        Trek 820 - 2016         9            6   \n",
       "1           2     Ritchey Timberwolf Frameset - 2016         5            6   \n",
       "2           3        Surly Wednesday Frameset - 2016         8            6   \n",
       "3           4               Trek Fuel EX 8 29 - 2016         9            6   \n",
       "4           5           Heller Shagamaw Frame - 2016         3            6   \n",
       "5           6  Surly Ice Cream Truck Frameset - 2016         8            6   \n",
       "6           7               Trek Slash 8 27.5 - 2016         9            6   \n",
       "7           8  Trek Remedy 29 Carbon Frameset - 2016         9            6   \n",
       "8           9                   Trek Conduit+ - 2016         9            5   \n",
       "9          10                 Surly Straggler - 2016         8            4   \n",
       "\n",
       "   model_year  list_price  \n",
       "0        2016      379.99  \n",
       "1        2016      749.99  \n",
       "2        2016      999.99  \n",
       "3        2016     2899.99  \n",
       "4        2016     1320.99  \n",
       "5        2016      469.99  \n",
       "6        2016     3999.99  \n",
       "7        2016     1799.99  \n",
       "8        2016     2999.99  \n",
       "9        2016     1549.00  "
      ]
     },
     "execution_count": 28,
     "metadata": {},
     "output_type": "execute_result"
    }
   ],
   "source": [
    "df_prod = pd.read_sql(\"SELECT * FROM production.products\", con = conn)\n",
    "df_prod.head(10)"
   ]
  },
  {
   "cell_type": "markdown",
   "metadata": {},
   "source": [
    "## DF to Databese"
   ]
  },
  {
   "cell_type": "code",
   "execution_count": 30,
   "metadata": {},
   "outputs": [],
   "source": [
    "import sqlalchemy\n",
    "import urllib"
   ]
  },
  {
   "cell_type": "code",
   "execution_count": null,
   "metadata": {},
   "outputs": [],
   "source": [
    "crs.execute('USE Test_1')"
   ]
  },
  {
   "cell_type": "code",
   "execution_count": 33,
   "metadata": {},
   "outputs": [],
   "source": [
    "driver = '{ODBC Driver 17 for SQL Server}'\n",
    "server = 'localhost' #şu anda server her birimizin kendi makinesi\n",
    "database = 'Test_1'#yeni bir db oluşturacağız\n",
    "user = 'sa' \n",
    "password = '---'"
   ]
  },
  {
   "cell_type": "code",
   "execution_count": 34,
   "metadata": {},
   "outputs": [],
   "source": [
    "params = 'DRIVER='+driver + ';SERVER=' + server +';PORT=1433;DATABASE='+ database + ';UID=' + user + ';PWD=' + password "
   ]
  },
  {
   "cell_type": "code",
   "execution_count": 35,
   "metadata": {},
   "outputs": [],
   "source": [
    "db_params = urllib.parse.quote_plus (params)\n",
    "engine = sqlalchemy.create_engine(\"mssql+pyodbc:///?odbc_connect={}\".format(db_params))"
   ]
  },
  {
   "cell_type": "code",
   "execution_count": null,
   "metadata": {},
   "outputs": [],
   "source": []
  },
  {
   "cell_type": "code",
   "execution_count": 36,
   "metadata": {},
   "outputs": [
    {
     "data": {
      "text/html": [
       "<div>\n",
       "<style scoped>\n",
       "    .dataframe tbody tr th:only-of-type {\n",
       "        vertical-align: middle;\n",
       "    }\n",
       "\n",
       "    .dataframe tbody tr th {\n",
       "        vertical-align: top;\n",
       "    }\n",
       "\n",
       "    .dataframe thead th {\n",
       "        text-align: right;\n",
       "    }\n",
       "</style>\n",
       "<table border=\"1\" class=\"dataframe\">\n",
       "  <thead>\n",
       "    <tr style=\"text-align: right;\">\n",
       "      <th></th>\n",
       "      <th>product_id</th>\n",
       "      <th>product_name</th>\n",
       "      <th>brand_id</th>\n",
       "      <th>category_id</th>\n",
       "      <th>model_year</th>\n",
       "      <th>list_price</th>\n",
       "    </tr>\n",
       "  </thead>\n",
       "  <tbody>\n",
       "    <tr>\n",
       "      <th>0</th>\n",
       "      <td>1</td>\n",
       "      <td>Trek 820 - 2016</td>\n",
       "      <td>9</td>\n",
       "      <td>6</td>\n",
       "      <td>2016</td>\n",
       "      <td>379.99</td>\n",
       "    </tr>\n",
       "    <tr>\n",
       "      <th>1</th>\n",
       "      <td>2</td>\n",
       "      <td>Ritchey Timberwolf Frameset - 2016</td>\n",
       "      <td>5</td>\n",
       "      <td>6</td>\n",
       "      <td>2016</td>\n",
       "      <td>749.99</td>\n",
       "    </tr>\n",
       "    <tr>\n",
       "      <th>2</th>\n",
       "      <td>3</td>\n",
       "      <td>Surly Wednesday Frameset - 2016</td>\n",
       "      <td>8</td>\n",
       "      <td>6</td>\n",
       "      <td>2016</td>\n",
       "      <td>999.99</td>\n",
       "    </tr>\n",
       "    <tr>\n",
       "      <th>3</th>\n",
       "      <td>4</td>\n",
       "      <td>Trek Fuel EX 8 29 - 2016</td>\n",
       "      <td>9</td>\n",
       "      <td>6</td>\n",
       "      <td>2016</td>\n",
       "      <td>2899.99</td>\n",
       "    </tr>\n",
       "    <tr>\n",
       "      <th>4</th>\n",
       "      <td>5</td>\n",
       "      <td>Heller Shagamaw Frame - 2016</td>\n",
       "      <td>3</td>\n",
       "      <td>6</td>\n",
       "      <td>2016</td>\n",
       "      <td>1320.99</td>\n",
       "    </tr>\n",
       "    <tr>\n",
       "      <th>5</th>\n",
       "      <td>6</td>\n",
       "      <td>Surly Ice Cream Truck Frameset - 2016</td>\n",
       "      <td>8</td>\n",
       "      <td>6</td>\n",
       "      <td>2016</td>\n",
       "      <td>469.99</td>\n",
       "    </tr>\n",
       "    <tr>\n",
       "      <th>6</th>\n",
       "      <td>7</td>\n",
       "      <td>Trek Slash 8 27.5 - 2016</td>\n",
       "      <td>9</td>\n",
       "      <td>6</td>\n",
       "      <td>2016</td>\n",
       "      <td>3999.99</td>\n",
       "    </tr>\n",
       "    <tr>\n",
       "      <th>7</th>\n",
       "      <td>8</td>\n",
       "      <td>Trek Remedy 29 Carbon Frameset - 2016</td>\n",
       "      <td>9</td>\n",
       "      <td>6</td>\n",
       "      <td>2016</td>\n",
       "      <td>1799.99</td>\n",
       "    </tr>\n",
       "    <tr>\n",
       "      <th>8</th>\n",
       "      <td>9</td>\n",
       "      <td>Trek Conduit+ - 2016</td>\n",
       "      <td>9</td>\n",
       "      <td>5</td>\n",
       "      <td>2016</td>\n",
       "      <td>2999.99</td>\n",
       "    </tr>\n",
       "  </tbody>\n",
       "</table>\n",
       "</div>"
      ],
      "text/plain": [
       "   product_id                           product_name  brand_id  category_id  \\\n",
       "0           1                        Trek 820 - 2016         9            6   \n",
       "1           2     Ritchey Timberwolf Frameset - 2016         5            6   \n",
       "2           3        Surly Wednesday Frameset - 2016         8            6   \n",
       "3           4               Trek Fuel EX 8 29 - 2016         9            6   \n",
       "4           5           Heller Shagamaw Frame - 2016         3            6   \n",
       "5           6  Surly Ice Cream Truck Frameset - 2016         8            6   \n",
       "6           7               Trek Slash 8 27.5 - 2016         9            6   \n",
       "7           8  Trek Remedy 29 Carbon Frameset - 2016         9            6   \n",
       "8           9                   Trek Conduit+ - 2016         9            5   \n",
       "\n",
       "   model_year  list_price  \n",
       "0        2016      379.99  \n",
       "1        2016      749.99  \n",
       "2        2016      999.99  \n",
       "3        2016     2899.99  \n",
       "4        2016     1320.99  \n",
       "5        2016      469.99  \n",
       "6        2016     3999.99  \n",
       "7        2016     1799.99  \n",
       "8        2016     2999.99  "
      ]
     },
     "execution_count": 36,
     "metadata": {},
     "output_type": "execute_result"
    }
   ],
   "source": [
    "df_prod = pd.read_sql(\"SELECT * FROM production.products where product_id <10\", con = conn)\n",
    "df_prod.head(10)"
   ]
  },
  {
   "cell_type": "code",
   "execution_count": 37,
   "metadata": {},
   "outputs": [],
   "source": [
    "df_prod.to_sql(\"products_bikes\", engine, index = False, if_exists = \"append\", schema = \"dbo\")"
   ]
  },
  {
   "cell_type": "code",
   "execution_count": null,
   "metadata": {},
   "outputs": [],
   "source": []
  },
  {
   "cell_type": "code",
   "execution_count": null,
   "metadata": {},
   "outputs": [],
   "source": []
  },
  {
   "cell_type": "code",
   "execution_count": null,
   "metadata": {},
   "outputs": [],
   "source": []
  },
  {
   "cell_type": "code",
   "execution_count": null,
   "metadata": {},
   "outputs": [],
   "source": []
  }
 ],
 "metadata": {
  "kernelspec": {
   "display_name": "Python 3",
   "language": "python",
   "name": "python3"
  },
  "language_info": {
   "codemirror_mode": {
    "name": "ipython",
    "version": 3
   },
   "file_extension": ".py",
   "mimetype": "text/x-python",
   "name": "python",
   "nbconvert_exporter": "python",
   "pygments_lexer": "ipython3",
   "version": "3.8.5"
  }
 },
 "nbformat": 4,
 "nbformat_minor": 4
}
